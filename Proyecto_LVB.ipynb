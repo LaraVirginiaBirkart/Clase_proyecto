{
 "cells": [
  {
   "metadata": {},
   "cell_type": "markdown",
   "source": "# **Exercise 1**",
   "id": "6017e03d5fb55f52"
  },
  {
   "metadata": {},
   "cell_type": "markdown",
   "source": "## 1.1 'Hola mundo!'",
   "id": "843f8dc9e5584b92"
  },
  {
   "metadata": {
    "ExecuteTime": {
     "end_time": "2025-08-14T22:08:09.912192Z",
     "start_time": "2025-08-14T22:08:09.906441Z"
    }
   },
   "cell_type": "code",
   "source": "print('Hola mundo!')",
   "id": "7c7db92061629a1b",
   "outputs": [
    {
     "name": "stdout",
     "output_type": "stream",
     "text": [
      "Hola mundo!\n"
     ]
    }
   ],
   "execution_count": 1
  },
  {
   "metadata": {},
   "cell_type": "markdown",
   "source": "## 1.2 Calculations",
   "id": "71a2b7d558eb1cea"
  },
  {
   "metadata": {},
   "cell_type": "markdown",
   "source": "### *1 2 3*",
   "id": "141ff12f8d269ddc"
  },
  {
   "metadata": {
    "ExecuteTime": {
     "end_time": "2025-08-14T22:08:09.974998Z",
     "start_time": "2025-08-14T22:08:09.969909Z"
    }
   },
   "cell_type": "code",
   "source": "8/7",
   "id": "77647e000d8e82ba",
   "outputs": [
    {
     "data": {
      "text/plain": [
       "1.1428571428571428"
      ]
     },
     "execution_count": 2,
     "metadata": {},
     "output_type": "execute_result"
    }
   ],
   "execution_count": 2
  },
  {
   "metadata": {},
   "cell_type": "markdown",
   "source": "### *a b c*",
   "id": "2e169ea6f0792e15"
  },
  {
   "metadata": {
    "ExecuteTime": {
     "end_time": "2025-08-14T22:08:10.027937Z",
     "start_time": "2025-08-14T22:08:10.024244Z"
    }
   },
   "cell_type": "code",
   "source": [
    "a=7\n",
    "b=8\n",
    "c=a+b\n",
    "d=a-b\n",
    "e=a*b\n",
    "f=a/b\n",
    "print(c,d,e,f)"
   ],
   "id": "1a3a18e5a2ce581c",
   "outputs": [
    {
     "name": "stdout",
     "output_type": "stream",
     "text": [
      "15 -1 56 0.875\n"
     ]
    }
   ],
   "execution_count": 3
  },
  {
   "metadata": {},
   "cell_type": "markdown",
   "source": "# **Exercise 2**",
   "id": "8b1ee9a5af2f0503"
  },
  {
   "metadata": {},
   "cell_type": "markdown",
   "source": "## 2.1 Composite functions",
   "id": "5d31eb152bb1dd8b"
  },
  {
   "metadata": {},
   "cell_type": "markdown",
   "source": "### *Patch Cohesion Index of three (small) rectangles within a (large) circle*",
   "id": "f1fd8b8d2fb8c292"
  },
  {
   "metadata": {
    "ExecuteTime": {
     "end_time": "2025-08-14T22:08:10.075545Z",
     "start_time": "2025-08-14T22:08:10.072743Z"
    }
   },
   "cell_type": "code",
   "source": "import math",
   "id": "a2e266efd16a39b6",
   "outputs": [],
   "execution_count": 4
  },
  {
   "metadata": {
    "ExecuteTime": {
     "end_time": "2025-08-14T22:08:10.089911Z",
     "start_time": "2025-08-14T22:08:10.086134Z"
    }
   },
   "cell_type": "code",
   "source": [
    "def perim_rect(length,width):\n",
    "    return length*2+width*2"
   ],
   "id": "ad94a9dfcf612d02",
   "outputs": [],
   "execution_count": 5
  },
  {
   "metadata": {
    "ExecuteTime": {
     "end_time": "2025-08-14T22:08:10.100667Z",
     "start_time": "2025-08-14T22:08:10.097728Z"
    }
   },
   "cell_type": "code",
   "source": [
    "def var_rect(length,width):\n",
    "    perim=length*2+width*2\n",
    "    area=length*width\n",
    "    return perim*math.sqrt(area)"
   ],
   "id": "5e291fee23c4d2c",
   "outputs": [],
   "execution_count": 6
  },
  {
   "metadata": {
    "ExecuteTime": {
     "end_time": "2025-08-14T22:08:10.109253Z",
     "start_time": "2025-08-14T22:08:10.106316Z"
    }
   },
   "cell_type": "code",
   "source": [
    "def area_circle(rad):\n",
    "    return math.pi*rad*rad"
   ],
   "id": "419438571d46a4b0",
   "outputs": [],
   "execution_count": 7
  },
  {
   "metadata": {
    "ExecuteTime": {
     "end_time": "2025-08-14T22:08:10.120318Z",
     "start_time": "2025-08-14T22:08:10.115262Z"
    }
   },
   "cell_type": "code",
   "source": [
    "def Cohesion():\n",
    "    CohInd=(1-(perim_rect(5,2)+perim_rect(3,4)+perim_rect(1,1))/(var_rect(5,2)+var_rect(3,4)+var_rect(1,1)))*(math.pow((1-(1/math.sqrt(area_circle(17)))),(-1)))*(100)\n",
    "    return CohInd\n",
    "\n",
    "print(f'Patch Cohesion Index: {Cohesion()}')"
   ],
   "id": "b88e4fc49146c88d",
   "outputs": [
    {
     "name": "stdout",
     "output_type": "stream",
     "text": [
      "Patch Cohesion Index: 69.22921769210994\n"
     ]
    }
   ],
   "execution_count": 8
  },
  {
   "metadata": {},
   "cell_type": "markdown",
   "source": [
    "### *Resources*\n",
    "Formula - Patch Cohesion Index\n",
    "[Fragstats](https://www.researchgate.net/profile/Samuel-Cushman-2/publication/259011515_FRAGSTATS_Spatial_pattern_analysis_program_for_categorical_maps/links/564217ea08aebaaea1f8b8dd/FRAGSTATS-Spatial-pattern-analysis-program-for-categorical-maps.pdf)"
   ],
   "id": "b5fb01d4462c89d9"
  },
  {
   "metadata": {},
   "cell_type": "markdown",
   "source": "# **Exercise 3**",
   "id": "2a2506745252f8cd"
  }
 ],
 "metadata": {
  "kernelspec": {
   "display_name": "Python 3",
   "language": "python",
   "name": "python3"
  },
  "language_info": {
   "codemirror_mode": {
    "name": "ipython",
    "version": 2
   },
   "file_extension": ".py",
   "mimetype": "text/x-python",
   "name": "python",
   "nbconvert_exporter": "python",
   "pygments_lexer": "ipython2",
   "version": "2.7.6"
  }
 },
 "nbformat": 4,
 "nbformat_minor": 5
}
